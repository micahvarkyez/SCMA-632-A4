{
  "nbformat": 4,
  "nbformat_minor": 0,
  "metadata": {
    "colab": {
      "provenance": []
    },
    "kernelspec": {
      "name": "python3",
      "display_name": "Python 3"
    },
    "language_info": {
      "name": "python"
    }
  },
  "cells": [
    {
      "cell_type": "code",
      "execution_count": 14,
      "metadata": {
        "id": "2oKvhtkEG-pO"
      },
      "outputs": [],
      "source": [
        "import pandas as pd\n",
        "import matplotlib.pyplot as plt"
      ]
    },
    {
      "cell_type": "code",
      "source": [
        "data = pd.read_csv('/content/Survey.csv')"
      ],
      "metadata": {
        "id": "temohcw5HIPj"
      },
      "execution_count": 15,
      "outputs": []
    },
    {
      "cell_type": "code",
      "source": [
        "data.columns"
      ],
      "metadata": {
        "colab": {
          "base_uri": "https://localhost:8080/"
        },
        "id": "bcztx21hhBVv",
        "outputId": "7601f82d-e1b6-4a63-df56-9086ee3db4ab"
      },
      "execution_count": 16,
      "outputs": [
        {
          "output_type": "execute_result",
          "data": {
            "text/plain": [
              "Index(['City', 'Sex', 'Age', 'Occupation', 'Monthly Household Income',\n",
              "       'Income', 'Planning to Buy a new house', 'Time Frame',\n",
              "       'Reasons for buying a house', 'what type of House', 'Number of rooms',\n",
              "       'Size of House', 'Budget', 'Finished/Semi Finished',\n",
              "       'Influence Decision', 'Maintainance', 'EMI', '1.Proximity to city',\n",
              "       '2.Proximity to schools', '3. Proximity to transport',\n",
              "       '4. Proximity to work place', '5. Proximity to shopping',\n",
              "       '1. Gym/Pool/Sports facility', '2. Parking space', '3.Power back-up',\n",
              "       '4.Water supply', '5.Security', '1. Exterior look ', '2. Unit size',\n",
              "       '3. Interior design and branded components',\n",
              "       '4. Layout plan (Integrated etc.)', '5. View from apartment',\n",
              "       '1. Price', '2. Booking amount', '3. Equated Monthly Instalment (EMI)',\n",
              "       '4. Maintenance charges', '5. Availability of loan',\n",
              "       '1. Builder reputation', '2. Appreciation potential',\n",
              "       '3. Profile of neighbourhood', '4. Availability of domestic help',\n",
              "       'Time', 'Size', 'Budgets', 'Maintainances', 'EMI.1', 'ages', 'sex',\n",
              "       'Finished/Semi Finished.1', 'Influence Decision.1'],\n",
              "      dtype='object')"
            ]
          },
          "metadata": {},
          "execution_count": 16
        }
      ]
    },
    {
      "cell_type": "code",
      "source": [
        "subset_data = data.iloc[:, 18:46]\n",
        "print(subset_data.head())"
      ],
      "metadata": {
        "id": "qM_uhU53HPlf",
        "colab": {
          "base_uri": "https://localhost:8080/"
        },
        "outputId": "744f6954-9ca8-4dbb-b765-7b565aa9fe0a"
      },
      "execution_count": 17,
      "outputs": [
        {
          "output_type": "stream",
          "name": "stdout",
          "text": [
            "   2.Proximity to schools  3. Proximity to transport  \\\n",
            "0                       5                          5   \n",
            "1                       5                          5   \n",
            "2                       2                          5   \n",
            "3                       5                          3   \n",
            "4                       2                          3   \n",
            "\n",
            "   4. Proximity to work place  5. Proximity to shopping  \\\n",
            "0                           2                         1   \n",
            "1                           3                         1   \n",
            "2                           2                         1   \n",
            "3                           5                         4   \n",
            "4                           4                         3   \n",
            "\n",
            "   1. Gym/Pool/Sports facility  2. Parking space  3.Power back-up  \\\n",
            "0                            2                 5                3   \n",
            "1                            1                 4                2   \n",
            "2                            4                 3                2   \n",
            "3                            5                 5                4   \n",
            "4                            2                 4                3   \n",
            "\n",
            "   4.Water supply  5.Security  1. Exterior look   ...  \\\n",
            "0               5           3                  2  ...   \n",
            "1               4           3                  1  ...   \n",
            "2               4           5                  1  ...   \n",
            "3               5           5                  4  ...   \n",
            "4               4           4                  4  ...   \n",
            "\n",
            "   5. Availability of loan  1. Builder reputation  2. Appreciation potential  \\\n",
            "0                        3                      4                          5   \n",
            "1                        4                      5                          4   \n",
            "2                        2                      4                          4   \n",
            "3                        2                      5                          4   \n",
            "4                        4                      4                          3   \n",
            "\n",
            "   3. Profile of neighbourhood  4. Availability of domestic help  Time  Size  \\\n",
            "0                            4                                 1     9  1200   \n",
            "1                            3                                 2     9   800   \n",
            "2                            4                                 4     3   400   \n",
            "3                            5                                 5     3  1600   \n",
            "4                            4                                 3    18   800   \n",
            "\n",
            "   Budgets  Maintainances  EMI.1  \n",
            "0     72.5          30000  42500  \n",
            "1     32.5            120  27500  \n",
            "2     12.5          10000  10000  \n",
            "3    102.5          70000  80000  \n",
            "4     52.5          30000  42500  \n",
            "\n",
            "[5 rows x 28 columns]\n"
          ]
        }
      ]
    },
    {
      "cell_type": "code",
      "source": [
        "numeric_data = subset_data.select_dtypes(include=['float64', 'int64'])\n",
        "print(numeric_data.head())"
      ],
      "metadata": {
        "id": "evZvPHijHqMu",
        "colab": {
          "base_uri": "https://localhost:8080/"
        },
        "outputId": "c478413d-428d-463e-b902-55a4141b35e1"
      },
      "execution_count": 18,
      "outputs": [
        {
          "output_type": "stream",
          "name": "stdout",
          "text": [
            "   2.Proximity to schools  3. Proximity to transport  \\\n",
            "0                       5                          5   \n",
            "1                       5                          5   \n",
            "2                       2                          5   \n",
            "3                       5                          3   \n",
            "4                       2                          3   \n",
            "\n",
            "   4. Proximity to work place  5. Proximity to shopping  \\\n",
            "0                           2                         1   \n",
            "1                           3                         1   \n",
            "2                           2                         1   \n",
            "3                           5                         4   \n",
            "4                           4                         3   \n",
            "\n",
            "   1. Gym/Pool/Sports facility  2. Parking space  3.Power back-up  \\\n",
            "0                            2                 5                3   \n",
            "1                            1                 4                2   \n",
            "2                            4                 3                2   \n",
            "3                            5                 5                4   \n",
            "4                            2                 4                3   \n",
            "\n",
            "   4.Water supply  5.Security  1. Exterior look   ...  \\\n",
            "0               5           3                  2  ...   \n",
            "1               4           3                  1  ...   \n",
            "2               4           5                  1  ...   \n",
            "3               5           5                  4  ...   \n",
            "4               4           4                  4  ...   \n",
            "\n",
            "   5. Availability of loan  1. Builder reputation  2. Appreciation potential  \\\n",
            "0                        3                      4                          5   \n",
            "1                        4                      5                          4   \n",
            "2                        2                      4                          4   \n",
            "3                        2                      5                          4   \n",
            "4                        4                      4                          3   \n",
            "\n",
            "   3. Profile of neighbourhood  4. Availability of domestic help  Time  Size  \\\n",
            "0                            4                                 1     9  1200   \n",
            "1                            3                                 2     9   800   \n",
            "2                            4                                 4     3   400   \n",
            "3                            5                                 5     3  1600   \n",
            "4                            4                                 3    18   800   \n",
            "\n",
            "   Budgets  Maintainances  EMI.1  \n",
            "0     72.5          30000  42500  \n",
            "1     32.5            120  27500  \n",
            "2     12.5          10000  10000  \n",
            "3    102.5          70000  80000  \n",
            "4     52.5          30000  42500  \n",
            "\n",
            "[5 rows x 28 columns]\n"
          ]
        }
      ]
    },
    {
      "cell_type": "code",
      "source": [
        "print(numeric_data.isna().sum().sum())"
      ],
      "metadata": {
        "colab": {
          "base_uri": "https://localhost:8080/"
        },
        "id": "PTnIsltaHv-u",
        "outputId": "f2612be8-bf8c-443a-ae3e-4c65fce8d70c"
      },
      "execution_count": 19,
      "outputs": [
        {
          "output_type": "stream",
          "name": "stdout",
          "text": [
            "0\n"
          ]
        }
      ]
    },
    {
      "cell_type": "code",
      "source": [
        "numeric_data = numeric_data.dropna()"
      ],
      "metadata": {
        "id": "26rGM1WgHz0D"
      },
      "execution_count": 20,
      "outputs": []
    },
    {
      "cell_type": "code",
      "source": [
        "from sklearn.preprocessing import StandardScaler\n",
        "scaler = StandardScaler()\n",
        "scaled_data = scaler.fit_transform(numeric_data)"
      ],
      "metadata": {
        "id": "aHwYaauiH5Tg"
      },
      "execution_count": 21,
      "outputs": []
    },
    {
      "cell_type": "code",
      "source": [
        "from sklearn.cluster import KMeans\n",
        "sse = []\n",
        "k_range = range(1, 11)\n",
        "for k in k_range:\n",
        "    kmeans = KMeans(n_clusters=k, random_state=42)\n",
        "    kmeans.fit(scaled_data)\n",
        "    sse.append(kmeans.inertia_)"
      ],
      "metadata": {
        "colab": {
          "base_uri": "https://localhost:8080/"
        },
        "id": "0MLA4em-IFFY",
        "outputId": "ebfd06ae-e89f-4fcb-a9c3-803d5fe5bcb1"
      },
      "execution_count": 22,
      "outputs": [
        {
          "output_type": "stream",
          "name": "stderr",
          "text": [
            "/usr/local/lib/python3.10/dist-packages/sklearn/cluster/_kmeans.py:870: FutureWarning: The default value of `n_init` will change from 10 to 'auto' in 1.4. Set the value of `n_init` explicitly to suppress the warning\n",
            "  warnings.warn(\n",
            "/usr/local/lib/python3.10/dist-packages/sklearn/cluster/_kmeans.py:870: FutureWarning: The default value of `n_init` will change from 10 to 'auto' in 1.4. Set the value of `n_init` explicitly to suppress the warning\n",
            "  warnings.warn(\n",
            "/usr/local/lib/python3.10/dist-packages/sklearn/cluster/_kmeans.py:870: FutureWarning: The default value of `n_init` will change from 10 to 'auto' in 1.4. Set the value of `n_init` explicitly to suppress the warning\n",
            "  warnings.warn(\n",
            "/usr/local/lib/python3.10/dist-packages/sklearn/cluster/_kmeans.py:870: FutureWarning: The default value of `n_init` will change from 10 to 'auto' in 1.4. Set the value of `n_init` explicitly to suppress the warning\n",
            "  warnings.warn(\n",
            "/usr/local/lib/python3.10/dist-packages/sklearn/cluster/_kmeans.py:870: FutureWarning: The default value of `n_init` will change from 10 to 'auto' in 1.4. Set the value of `n_init` explicitly to suppress the warning\n",
            "  warnings.warn(\n",
            "/usr/local/lib/python3.10/dist-packages/sklearn/cluster/_kmeans.py:870: FutureWarning: The default value of `n_init` will change from 10 to 'auto' in 1.4. Set the value of `n_init` explicitly to suppress the warning\n",
            "  warnings.warn(\n",
            "/usr/local/lib/python3.10/dist-packages/sklearn/cluster/_kmeans.py:870: FutureWarning: The default value of `n_init` will change from 10 to 'auto' in 1.4. Set the value of `n_init` explicitly to suppress the warning\n",
            "  warnings.warn(\n",
            "/usr/local/lib/python3.10/dist-packages/sklearn/cluster/_kmeans.py:870: FutureWarning: The default value of `n_init` will change from 10 to 'auto' in 1.4. Set the value of `n_init` explicitly to suppress the warning\n",
            "  warnings.warn(\n",
            "/usr/local/lib/python3.10/dist-packages/sklearn/cluster/_kmeans.py:870: FutureWarning: The default value of `n_init` will change from 10 to 'auto' in 1.4. Set the value of `n_init` explicitly to suppress the warning\n",
            "  warnings.warn(\n",
            "/usr/local/lib/python3.10/dist-packages/sklearn/cluster/_kmeans.py:870: FutureWarning: The default value of `n_init` will change from 10 to 'auto' in 1.4. Set the value of `n_init` explicitly to suppress the warning\n",
            "  warnings.warn(\n"
          ]
        }
      ]
    },
    {
      "cell_type": "code",
      "source": [
        "plt.figure(figsize=(10, 6))\n",
        "plt.plot(k_range, sse, marker='o')\n",
        "plt.title('Elbow Method')\n",
        "plt.xlabel('Number of Clusters')\n",
        "plt.ylabel('Sum of Squared Errors (SSE)')\n",
        "plt.show()"
      ],
      "metadata": {
        "colab": {
          "base_uri": "https://localhost:8080/",
          "height": 564
        },
        "id": "kCAQB_5zINaH",
        "outputId": "a471cab8-1c8d-40cd-deb4-9ed177d3f5f0"
      },
      "execution_count": 23,
      "outputs": [
        {
          "output_type": "display_data",
          "data": {
            "text/plain": [
              "<Figure size 1000x600 with 1 Axes>"
            ],
            "image/png": "[encoded data removed]"
          },
          "metadata": {}
        }
      ]
    },
    {
      "cell_type": "code",
      "source": [
        "from sklearn.cluster import KMeans\n",
        "from sklearn.preprocessing import StandardScaler"
      ],
      "metadata": {
        "id": "F2Ji8j4kjG0Z"
      },
      "execution_count": 24,
      "outputs": []
    },
    {
      "cell_type": "code",
      "source": [
        "import numpy as np\n",
        "def extract_median_age(age_range):\n",
        "    ages = age_range.split('-')\n",
        "    return np.median([int(age) for age in ages])"
      ],
      "metadata": {
        "id": "cOmbDJnvjamq"
      },
      "execution_count": 25,
      "outputs": []
    },
    {
      "cell_type": "code",
      "source": [
        "def extract_median_age(age_range):\n",
        "    if age_range == '>60':\n",
        "        return 65  # assume the median age for '>60' is 65\n",
        "    elif '-' in age_range:\n",
        "        ages = age_range.split('-')\n",
        "        return np.median([int(age) for age in ages])\n",
        "    else:\n",
        "        return int(age_range)"
      ],
      "metadata": {
        "id": "wqiHikATjmbV"
      },
      "execution_count": 26,
      "outputs": []
    },
    {
      "cell_type": "code",
      "source": [
        "data['Age'] = data['Age'].apply(extract_median_age)"
      ],
      "metadata": {
        "id": "KHwmHmCyjqH3"
      },
      "execution_count": 28,
      "outputs": []
    },
    {
      "cell_type": "code",
      "source": [
        "#KMeans clustering on the preprocessed 'Age' column\n",
        "kmeans = KMeans(n_clusters=5)\n",
        "cluster_labels = kmeans.fit_predict(data[['Age']])"
      ],
      "metadata": {
        "colab": {
          "base_uri": "https://localhost:8080/"
        },
        "id": "HKnlpvXQjtAN",
        "outputId": "895341c0-5b61-4330-bd5d-7a17f6c0967f"
      },
      "execution_count": 30,
      "outputs": [
        {
          "output_type": "stream",
          "name": "stderr",
          "text": [
            "/usr/local/lib/python3.10/dist-packages/sklearn/cluster/_kmeans.py:870: FutureWarning: The default value of `n_init` will change from 10 to 'auto' in 1.4. Set the value of `n_init` explicitly to suppress the warning\n",
            "  warnings.warn(\n"
          ]
        }
      ]
    },
    {
      "cell_type": "code",
      "source": [
        "cluster_data = pd.DataFrame({'Cluster': cluster_labels, 'Age': data['Age']})\n",
        "print(cluster_data.head())"
      ],
      "metadata": {
        "colab": {
          "base_uri": "https://localhost:8080/"
        },
        "id": "vmE4I-RAj5hc",
        "outputId": "7e9b6e81-f227-40fc-e5d1-437e82c6e8e7"
      },
      "execution_count": 31,
      "outputs": [
        {
          "output_type": "stream",
          "name": "stdout",
          "text": [
            "   Cluster   Age\n",
            "0        1  30.5\n",
            "1        0  53.0\n",
            "2        0  53.0\n",
            "3        2  40.5\n",
            "4        1  30.5\n"
          ]
        }
      ]
    },
    {
      "cell_type": "code",
      "source": [
        "#calculate mean age for each cluster\n",
        "cluster_means = cluster_data.groupby('Cluster')['Age'].mean()"
      ],
      "metadata": {
        "id": "F0R1vg8TkDX6"
      },
      "execution_count": 32,
      "outputs": []
    },
    {
      "cell_type": "code",
      "source": [
        "#visualizing the results\n",
        "import seaborn as sns\n",
        "plt.figure(figsize=(8, 6))\n",
        "sns.barplot(x=cluster_means.index, y=cluster_means.values)\n",
        "plt.xlabel('Cluster')\n",
        "plt.ylabel('Mean Age')\n",
        "plt.title('Distribution of Ages by Cluster')\n",
        "plt.show()"
      ],
      "metadata": {
        "colab": {
          "base_uri": "https://localhost:8080/",
          "height": 564
        },
        "id": "O2sQAoaEkOQ7",
        "outputId": "8ffed7d1-6bac-4639-b6c5-9670a8a43441"
      },
      "execution_count": 33,
      "outputs": [
        {
          "output_type": "display_data",
          "data": {
            "text/plain": [
              "<Figure size 800x600 with 1 Axes>"
            ],
            "image/png": "[encoded data removed]"
          },
          "metadata": {}
        }
      ]
    }
  ]
}