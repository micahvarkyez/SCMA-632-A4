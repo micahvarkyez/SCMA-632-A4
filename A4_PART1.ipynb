{
  "nbformat": 4,
  "nbformat_minor": 0,
  "metadata": {
    "colab": {
      "provenance": []
    },
    "kernelspec": {
      "name": "python3",
      "display_name": "Python 3"
    },
    "language_info": {
      "name": "python"
    }
  },
  "cells": [
    {
      "cell_type": "code",
      "execution_count": 2,
      "metadata": {
        "id": "6aLMM8jt55ZR"
      },
      "outputs": [],
      "source": [
        "import pandas as pd\n",
        "import matplotlib.pyplot as plt\n",
        "import seaborn as sns"
      ]
    },
    {
      "cell_type": "code",
      "source": [
        "data = pd.read_csv('/content/Survey.csv')"
      ],
      "metadata": {
        "id": "ky-rzeFr6ctx"
      },
      "execution_count": 3,
      "outputs": []
    },
    {
      "cell_type": "code",
      "source": [
        "subset_data = data.iloc[:, 18:46]\n",
        "print(subset_data.head())"
      ],
      "metadata": {
        "id": "E5-LzUbr6k-G",
        "colab": {
          "base_uri": "https://localhost:8080/"
        },
        "outputId": "688f8924-419d-4e21-f1e6-2d76571a445a"
      },
      "execution_count": 4,
      "outputs": [
        {
          "output_type": "stream",
          "name": "stdout",
          "text": [
            "   2.Proximity to schools  3. Proximity to transport  \\\n",
            "0                       5                          5   \n",
            "1                       5                          5   \n",
            "2                       2                          5   \n",
            "3                       5                          3   \n",
            "4                       2                          3   \n",
            "\n",
            "   4. Proximity to work place  5. Proximity to shopping  \\\n",
            "0                           2                         1   \n",
            "1                           3                         1   \n",
            "2                           2                         1   \n",
            "3                           5                         4   \n",
            "4                           4                         3   \n",
            "\n",
            "   1. Gym/Pool/Sports facility  2. Parking space  3.Power back-up  \\\n",
            "0                            2                 5                3   \n",
            "1                            1                 4                2   \n",
            "2                            4                 3                2   \n",
            "3                            5                 5                4   \n",
            "4                            2                 4                3   \n",
            "\n",
            "   4.Water supply  5.Security  1. Exterior look   ...  \\\n",
            "0               5           3                  2  ...   \n",
            "1               4           3                  1  ...   \n",
            "2               4           5                  1  ...   \n",
            "3               5           5                  4  ...   \n",
            "4               4           4                  4  ...   \n",
            "\n",
            "   5. Availability of loan  1. Builder reputation  2. Appreciation potential  \\\n",
            "0                        3                      4                          5   \n",
            "1                        4                      5                          4   \n",
            "2                        2                      4                          4   \n",
            "3                        2                      5                          4   \n",
            "4                        4                      4                          3   \n",
            "\n",
            "   3. Profile of neighbourhood  4. Availability of domestic help  Time  Size  \\\n",
            "0                            4                                 1     9  1200   \n",
            "1                            3                                 2     9   800   \n",
            "2                            4                                 4     3   400   \n",
            "3                            5                                 5     3  1600   \n",
            "4                            4                                 3    18   800   \n",
            "\n",
            "   Budgets  Maintainances  EMI.1  \n",
            "0     72.5          30000  42500  \n",
            "1     32.5            120  27500  \n",
            "2     12.5          10000  10000  \n",
            "3    102.5          70000  80000  \n",
            "4     52.5          30000  42500  \n",
            "\n",
            "[5 rows x 28 columns]\n"
          ]
        }
      ]
    },
    {
      "cell_type": "code",
      "source": [
        "numeric_data = subset_data.select_dtypes(include=['float64', 'int64'])"
      ],
      "metadata": {
        "id": "o6P5lN-660TB"
      },
      "execution_count": 5,
      "outputs": []
    },
    {
      "cell_type": "code",
      "source": [
        "print(numeric_data.isna().sum().sum())"
      ],
      "metadata": {
        "colab": {
          "base_uri": "https://localhost:8080/"
        },
        "id": "FZisdljy7TXd",
        "outputId": "b18af8d9-04e0-4888-928a-0023e87a96aa"
      },
      "execution_count": 6,
      "outputs": [
        {
          "output_type": "stream",
          "name": "stdout",
          "text": [
            "0\n"
          ]
        }
      ]
    },
    {
      "cell_type": "code",
      "source": [
        "from sklearn.decomposition import PCA\n",
        "from sklearn.preprocessing import StandardScaler\n",
        "scaler = StandardScaler()\n",
        "scaled_data = scaler.fit_transform(numeric_data)"
      ],
      "metadata": {
        "id": "BUYOae-o8fk9"
      },
      "execution_count": 7,
      "outputs": []
    },
    {
      "cell_type": "code",
      "source": [
        "pca = PCA()\n",
        "pca_result = pca.fit(scaled_data)"
      ],
      "metadata": {
        "id": "jRjxp2Ed8he0"
      },
      "execution_count": 8,
      "outputs": []
    },
    {
      "cell_type": "code",
      "source": [
        "explained_variance = pca.explained_variance_ratio_\n",
        "print(\"Explained variance by each component:\", explained_variance)"
      ],
      "metadata": {
        "colab": {
          "base_uri": "https://localhost:8080/"
        },
        "id": "9EuB7Eyz8oXE",
        "outputId": "9082231d-421b-4c82-b7a1-f636fec0367b"
      },
      "execution_count": 9,
      "outputs": [
        {
          "output_type": "stream",
          "name": "stdout",
          "text": [
            "Explained variance by each component: [0.31345961 0.09438265 0.06646745 0.06448555 0.05903805 0.04857417\n",
            " 0.04706409 0.04288021 0.03587397 0.02855187 0.0263251  0.02285972\n",
            " 0.0198852  0.01961358 0.01816526 0.01603945 0.01324205 0.0117195\n",
            " 0.01062239 0.00886773 0.00772002 0.00712372 0.00505614 0.0041258\n",
            " 0.00310811 0.00209859 0.00177019 0.0008798 ]\n"
          ]
        }
      ]
    },
    {
      "cell_type": "code",
      "source": [
        "plt.figure(figsize=(10, 6))\n",
        "plt.plot(range(1, len(explained_variance) + 1), explained_variance, marker='o')\n",
        "plt.title('Scree Plot')\n",
        "plt.xlabel('Principal Component')\n",
        "plt.ylabel('Explained Variance Ratio')\n",
        "plt.show()"
      ],
      "metadata": {
        "colab": {
          "base_uri": "https://localhost:8080/",
          "height": 564
        },
        "id": "87L2b9E_8v3m",
        "outputId": "18e49ee0-422a-46da-9d0a-92654d0ccda2"
      },
      "execution_count": 10,
      "outputs": [
        {
          "output_type": "display_data",
          "data": {
            "text/plain": [
              "<Figure size 1000x600 with 1 Axes>"
            ],
            "image/png": "[encoded data removed]"
          },
          "metadata": {}
        }
      ]
    },
    {
      "cell_type": "code",
      "source": [
        "pca_data = pca.transform(scaled_data)\n",
        "pca_df = pd.DataFrame(data=pca_data, columns=[f'PC{i+1}' for i in range(pca_data.shape[1])])\n",
        "\n",
        "sns.scatterplot(x='PC1', y='PC2', data=pca_df)\n",
        "plt.title('PCA - PC1 vs PC2')\n",
        "plt.show()"
      ],
      "metadata": {
        "colab": {
          "base_uri": "https://localhost:8080/",
          "height": 472
        },
        "id": "dTPs9dha9CD5",
        "outputId": "0036179d-d15e-4e5f-c8ae-246b7e3900a7"
      },
      "execution_count": 11,
      "outputs": [
        {
          "output_type": "display_data",
          "data": {
            "text/plain": [
              "<Figure size 640x480 with 1 Axes>"
            ],
            "image/png": "[encoded data removed]"
          },
          "metadata": {}
        }
      ]
    },
    {
      "cell_type": "code",
      "source": [
        "!pip install factor_analyzer\n",
        "from factor_analyzer import FactorAnalyzer, calculate_kmo, calculate_bartlett_sphericity"
      ],
      "metadata": {
        "colab": {
          "base_uri": "https://localhost:8080/"
        },
        "id": "8FT-OMAq9rA8",
        "outputId": "86a3678f-815d-41da-8693-50da6fabf2f8"
      },
      "execution_count": 12,
      "outputs": [
        {
          "output_type": "stream",
          "name": "stdout",
          "text": [
            "Collecting factor_analyzer\n",
            "  Downloading factor_analyzer-0.5.1.tar.gz (42 kB)\n",
            "\u001b[2K     \u001b[90m━━━━━━━━━━━━━━━━━━━━━━━━━━━━━━━━━━━━━━━━\u001b[0m \u001b[32m42.8/42.8 kB\u001b[0m \u001b[31m644.4 kB/s\u001b[0m eta \u001b[36m0:00:00\u001b[0m\n",
            "\u001b[?25h  Installing build dependencies ... \u001b[?25l\u001b[?25hdone\n",
            "  Getting requirements to build wheel ... \u001b[?25l\u001b[?25hdone\n",
            "  Preparing metadata (pyproject.toml) ... \u001b[?25l\u001b[?25hdone\n",
            "Requirement already satisfied: pandas in /usr/local/lib/python3.10/dist-packages (from factor_analyzer) (2.0.3)\n",
            "Requirement already satisfied: scipy in /usr/local/lib/python3.10/dist-packages (from factor_analyzer) (1.11.4)\n",
            "Requirement already satisfied: numpy in /usr/local/lib/python3.10/dist-packages (from factor_analyzer) (1.25.2)\n",
            "Requirement already satisfied: scikit-learn in /usr/local/lib/python3.10/dist-packages (from factor_analyzer) (1.2.2)\n",
            "Requirement already satisfied: python-dateutil>=2.8.2 in /usr/local/lib/python3.10/dist-packages (from pandas->factor_analyzer) (2.8.2)\n",
            "Requirement already satisfied: pytz>=2020.1 in /usr/local/lib/python3.10/dist-packages (from pandas->factor_analyzer) (2023.4)\n",
            "Requirement already satisfied: tzdata>=2022.1 in /usr/local/lib/python3.10/dist-packages (from pandas->factor_analyzer) (2024.1)\n",
            "Requirement already satisfied: joblib>=1.1.1 in /usr/local/lib/python3.10/dist-packages (from scikit-learn->factor_analyzer) (1.4.2)\n",
            "Requirement already satisfied: threadpoolctl>=2.0.0 in /usr/local/lib/python3.10/dist-packages (from scikit-learn->factor_analyzer) (3.5.0)\n",
            "Requirement already satisfied: six>=1.5 in /usr/local/lib/python3.10/dist-packages (from python-dateutil>=2.8.2->pandas->factor_analyzer) (1.16.0)\n",
            "Building wheels for collected packages: factor_analyzer\n",
            "  Building wheel for factor_analyzer (pyproject.toml) ... \u001b[?25l\u001b[?25hdone\n",
            "  Created wheel for factor_analyzer: filename=factor_analyzer-0.5.1-py2.py3-none-any.whl size=42567 sha256=52d7b986e1bf02594ad13d388309df4d3a7492c734a047cedc920e2e60fa9476\n",
            "  Stored in directory: /root/.cache/pip/wheels/24/59/82/6493618e30ed1cb7a013b9e1b0c9e17de80b04dfcef4ba8a4d\n",
            "Successfully built factor_analyzer\n",
            "Installing collected packages: factor_analyzer\n",
            "Successfully installed factor_analyzer-0.5.1\n"
          ]
        }
      ]
    },
    {
      "cell_type": "code",
      "source": [
        "from factor_analyzer import FactorAnalyzer, calculate_kmo, calculate_bartlett_sphericity\n"
      ],
      "metadata": {
        "id": "xnT_dz__9HF8"
      },
      "execution_count": 13,
      "outputs": []
    },
    {
      "cell_type": "code",
      "source": [
        "kmo_all, kmo_model = calculate_kmo(numeric_data)\n",
        "print('KMO Test: ', kmo_model)"
      ],
      "metadata": {
        "colab": {
          "base_uri": "https://localhost:8080/"
        },
        "id": "YOj_dgPB95ZY",
        "outputId": "5bf24288-0fca-4e2c-dc84-8af3b9becbec"
      },
      "execution_count": 14,
      "outputs": [
        {
          "output_type": "stream",
          "name": "stdout",
          "text": [
            "KMO Test:  0.6899896861766692\n"
          ]
        }
      ]
    },
    {
      "cell_type": "code",
      "source": [
        "chi_square_value, p_value = calculate_bartlett_sphericity(numeric_data)\n",
        "print('Bartlett\\'s Test: ', chi_square_value, p_value)\n"
      ],
      "metadata": {
        "colab": {
          "base_uri": "https://localhost:8080/"
        },
        "id": "nYYzVrZN-EoD",
        "outputId": "8cd0e81b-c40d-4649-e70e-aba704a5e12b"
      },
      "execution_count": 15,
      "outputs": [
        {
          "output_type": "stream",
          "name": "stdout",
          "text": [
            "Bartlett's Test:  1291.9915434035404 3.083806132091647e-100\n"
          ]
        }
      ]
    },
    {
      "cell_type": "code",
      "source": [
        "fa = FactorAnalyzer(rotation='varimax')\n",
        "fa.fit(numeric_data)"
      ],
      "metadata": {
        "colab": {
          "base_uri": "https://localhost:8080/",
          "height": 75
        },
        "id": "PCpFYrjP-LRz",
        "outputId": "902e353b-8a08-4cad-a63f-be285421282c"
      },
      "execution_count": 16,
      "outputs": [
        {
          "output_type": "execute_result",
          "data": {
            "text/plain": [
              "FactorAnalyzer(rotation='varimax', rotation_kwargs={})"
            ],
            "text/html": [
              "<style>#sk-container-id-1 {color: black;background-color: white;}#sk-container-id-1 pre{padding: 0;}#sk-container-id-1 div.sk-toggleable {background-color: white;}#sk-container-id-1 label.sk-toggleable__label {cursor: pointer;display: block;width: 100%;margin-bottom: 0;padding: 0.3em;box-sizing: border-box;text-align: center;}#sk-container-id-1 label.sk-toggleable__label-arrow:before {content: \"▸\";float: left;margin-right: 0.25em;color: #696969;}#sk-container-id-1 label.sk-toggleable__label-arrow:hover:before {color: black;}#sk-container-id-1 div.sk-estimator:hover label.sk-toggleable__label-arrow:before {color: black;}#sk-container-id-1 div.sk-toggleable__content {max-height: 0;max-width: 0;overflow: hidden;text-align: left;background-color: #f0f8ff;}#sk-container-id-1 div.sk-toggleable__content pre {margin: 0.2em;color: black;border-radius: 0.25em;background-color: #f0f8ff;}#sk-container-id-1 input.sk-toggleable__control:checked~div.sk-toggleable__content {max-height: 200px;max-width: 100%;overflow: auto;}#sk-container-id-1 input.sk-toggleable__control:checked~label.sk-toggleable__label-arrow:before {content: \"▾\";}#sk-container-id-1 div.sk-estimator input.sk-toggleable__control:checked~label.sk-toggleable__label {background-color: #d4ebff;}#sk-container-id-1 div.sk-label input.sk-toggleable__control:checked~label.sk-toggleable__label {background-color: #d4ebff;}#sk-container-id-1 input.sk-hidden--visually {border: 0;clip: rect(1px 1px 1px 1px);clip: rect(1px, 1px, 1px, 1px);height: 1px;margin: -1px;overflow: hidden;padding: 0;position: absolute;width: 1px;}#sk-container-id-1 div.sk-estimator {font-family: monospace;background-color: #f0f8ff;border: 1px dotted black;border-radius: 0.25em;box-sizing: border-box;margin-bottom: 0.5em;}#sk-container-id-1 div.sk-estimator:hover {background-color: #d4ebff;}#sk-container-id-1 div.sk-parallel-item::after {content: \"\";width: 100%;border-bottom: 1px solid gray;flex-grow: 1;}#sk-container-id-1 div.sk-label:hover label.sk-toggleable__label {background-color: #d4ebff;}#sk-container-id-1 div.sk-serial::before {content: \"\";position: absolute;border-left: 1px solid gray;box-sizing: border-box;top: 0;bottom: 0;left: 50%;z-index: 0;}#sk-container-id-1 div.sk-serial {display: flex;flex-direction: column;align-items: center;background-color: white;padding-right: 0.2em;padding-left: 0.2em;position: relative;}#sk-container-id-1 div.sk-item {position: relative;z-index: 1;}#sk-container-id-1 div.sk-parallel {display: flex;align-items: stretch;justify-content: center;background-color: white;position: relative;}#sk-container-id-1 div.sk-item::before, #sk-container-id-1 div.sk-parallel-item::before {content: \"\";position: absolute;border-left: 1px solid gray;box-sizing: border-box;top: 0;bottom: 0;left: 50%;z-index: -1;}#sk-container-id-1 div.sk-parallel-item {display: flex;flex-direction: column;z-index: 1;position: relative;background-color: white;}#sk-container-id-1 div.sk-parallel-item:first-child::after {align-self: flex-end;width: 50%;}#sk-container-id-1 div.sk-parallel-item:last-child::after {align-self: flex-start;width: 50%;}#sk-container-id-1 div.sk-parallel-item:only-child::after {width: 0;}#sk-container-id-1 div.sk-dashed-wrapped {border: 1px dashed gray;margin: 0 0.4em 0.5em 0.4em;box-sizing: border-box;padding-bottom: 0.4em;background-color: white;}#sk-container-id-1 div.sk-label label {font-family: monospace;font-weight: bold;display: inline-block;line-height: 1.2em;}#sk-container-id-1 div.sk-label-container {text-align: center;}#sk-container-id-1 div.sk-container {/* jupyter's `normalize.less` sets `[hidden] { display: none; }` but bootstrap.min.css set `[hidden] { display: none !important; }` so we also need the `!important` here to be able to override the default hidden behavior on the sphinx rendered scikit-learn.org. See: https://github.com/scikit-learn/scikit-learn/issues/21755 */display: inline-block !important;position: relative;}#sk-container-id-1 div.sk-text-repr-fallback {display: none;}</style><div id=\"sk-container-id-1\" class=\"sk-top-container\"><div class=\"sk-text-repr-fallback\"><pre>FactorAnalyzer(rotation=&#x27;varimax&#x27;, rotation_kwargs={})</pre><b>In a Jupyter environment, please rerun this cell to show the HTML representation or trust the notebook. <br />On GitHub, the HTML representation is unable to render, please try loading this page with nbviewer.org.</b></div><div class=\"sk-container\" hidden><div class=\"sk-item\"><div class=\"sk-estimator sk-toggleable\"><input class=\"sk-toggleable__control sk-hidden--visually\" id=\"sk-estimator-id-1\" type=\"checkbox\" checked><label for=\"sk-estimator-id-1\" class=\"sk-toggleable__label sk-toggleable__label-arrow\">FactorAnalyzer</label><div class=\"sk-toggleable__content\"><pre>FactorAnalyzer(rotation=&#x27;varimax&#x27;, rotation_kwargs={})</pre></div></div></div></div></div>"
            ]
          },
          "metadata": {},
          "execution_count": 16
        }
      ]
    },
    {
      "cell_type": "code",
      "source": [
        "ev, v = fa.get_eigenvalues()\n",
        "print(\"Eigenvalues:\", ev)\n"
      ],
      "metadata": {
        "colab": {
          "base_uri": "https://localhost:8080/"
        },
        "id": "EfVSm5G3-QDU",
        "outputId": "4eb43f57-6149-40a2-bcd8-3cb0fdbf981d"
      },
      "execution_count": 17,
      "outputs": [
        {
          "output_type": "stream",
          "name": "stdout",
          "text": [
            "Eigenvalues: [8.77686919 2.64271414 1.86108858 1.80559538 1.65306543 1.36007666\n",
            " 1.31779443 1.20064601 1.00447108 0.79945247 0.73710276 0.64007208\n",
            " 0.55678569 0.54918027 0.50862739 0.44910468 0.37077744 0.32814606\n",
            " 0.29742695 0.24829655 0.21616058 0.19946421 0.14157204 0.11552251\n",
            " 0.08702703 0.05876066 0.04956537 0.02463434]\n"
          ]
        }
      ]
    },
    {
      "cell_type": "code",
      "source": [
        "plt.figure(figsize=(10, 6))\n",
        "plt.plot(range(1, len(ev) + 1), ev, marker='o')\n",
        "plt.title('Scree Plot')\n",
        "plt.xlabel('Factor')\n",
        "plt.ylabel('Eigenvalue')\n",
        "plt.axhline(y=1, color='r', linestyle='--')\n",
        "plt.show()"
      ],
      "metadata": {
        "colab": {
          "base_uri": "https://localhost:8080/",
          "height": 564
        },
        "id": "ChLxVdHK-VFx",
        "outputId": "6684f33d-95a0-4dbd-d249-c8282e0ab110"
      },
      "execution_count": 18,
      "outputs": [
        {
          "output_type": "display_data",
          "data": {
            "text/plain": [
              "<Figure size 1000x600 with 1 Axes>"
            ],
            "image/png": "[encoded data removed]"
          },
          "metadata": {}
        }
      ]
    },
    {
      "cell_type": "code",
      "source": [
        "n_factors = sum(ev > 1)"
      ],
      "metadata": {
        "id": "jXmpTYEE-a18"
      },
      "execution_count": 19,
      "outputs": []
    },
    {
      "cell_type": "code",
      "source": [
        "fa = FactorAnalyzer(n_factors=n_factors, rotation='varimax')\n",
        "fa.fit(numeric_data)"
      ],
      "metadata": {
        "colab": {
          "base_uri": "https://localhost:8080/",
          "height": 75
        },
        "id": "2QkZy6CU-f6Y",
        "outputId": "daa966e4-8753-4ddd-bd9a-13eea599eef5"
      },
      "execution_count": 20,
      "outputs": [
        {
          "output_type": "execute_result",
          "data": {
            "text/plain": [
              "FactorAnalyzer(n_factors=9, rotation='varimax', rotation_kwargs={})"
            ],
            "text/html": [
              "<style>#sk-container-id-2 {color: black;background-color: white;}#sk-container-id-2 pre{padding: 0;}#sk-container-id-2 div.sk-toggleable {background-color: white;}#sk-container-id-2 label.sk-toggleable__label {cursor: pointer;display: block;width: 100%;margin-bottom: 0;padding: 0.3em;box-sizing: border-box;text-align: center;}#sk-container-id-2 label.sk-toggleable__label-arrow:before {content: \"▸\";float: left;margin-right: 0.25em;color: #696969;}#sk-container-id-2 label.sk-toggleable__label-arrow:hover:before {color: black;}#sk-container-id-2 div.sk-estimator:hover label.sk-toggleable__label-arrow:before {color: black;}#sk-container-id-2 div.sk-toggleable__content {max-height: 0;max-width: 0;overflow: hidden;text-align: left;background-color: #f0f8ff;}#sk-container-id-2 div.sk-toggleable__content pre {margin: 0.2em;color: black;border-radius: 0.25em;background-color: #f0f8ff;}#sk-container-id-2 input.sk-toggleable__control:checked~div.sk-toggleable__content {max-height: 200px;max-width: 100%;overflow: auto;}#sk-container-id-2 input.sk-toggleable__control:checked~label.sk-toggleable__label-arrow:before {content: \"▾\";}#sk-container-id-2 div.sk-estimator input.sk-toggleable__control:checked~label.sk-toggleable__label {background-color: #d4ebff;}#sk-container-id-2 div.sk-label input.sk-toggleable__control:checked~label.sk-toggleable__label {background-color: #d4ebff;}#sk-container-id-2 input.sk-hidden--visually {border: 0;clip: rect(1px 1px 1px 1px);clip: rect(1px, 1px, 1px, 1px);height: 1px;margin: -1px;overflow: hidden;padding: 0;position: absolute;width: 1px;}#sk-container-id-2 div.sk-estimator {font-family: monospace;background-color: #f0f8ff;border: 1px dotted black;border-radius: 0.25em;box-sizing: border-box;margin-bottom: 0.5em;}#sk-container-id-2 div.sk-estimator:hover {background-color: #d4ebff;}#sk-container-id-2 div.sk-parallel-item::after {content: \"\";width: 100%;border-bottom: 1px solid gray;flex-grow: 1;}#sk-container-id-2 div.sk-label:hover label.sk-toggleable__label {background-color: #d4ebff;}#sk-container-id-2 div.sk-serial::before {content: \"\";position: absolute;border-left: 1px solid gray;box-sizing: border-box;top: 0;bottom: 0;left: 50%;z-index: 0;}#sk-container-id-2 div.sk-serial {display: flex;flex-direction: column;align-items: center;background-color: white;padding-right: 0.2em;padding-left: 0.2em;position: relative;}#sk-container-id-2 div.sk-item {position: relative;z-index: 1;}#sk-container-id-2 div.sk-parallel {display: flex;align-items: stretch;justify-content: center;background-color: white;position: relative;}#sk-container-id-2 div.sk-item::before, #sk-container-id-2 div.sk-parallel-item::before {content: \"\";position: absolute;border-left: 1px solid gray;box-sizing: border-box;top: 0;bottom: 0;left: 50%;z-index: -1;}#sk-container-id-2 div.sk-parallel-item {display: flex;flex-direction: column;z-index: 1;position: relative;background-color: white;}#sk-container-id-2 div.sk-parallel-item:first-child::after {align-self: flex-end;width: 50%;}#sk-container-id-2 div.sk-parallel-item:last-child::after {align-self: flex-start;width: 50%;}#sk-container-id-2 div.sk-parallel-item:only-child::after {width: 0;}#sk-container-id-2 div.sk-dashed-wrapped {border: 1px dashed gray;margin: 0 0.4em 0.5em 0.4em;box-sizing: border-box;padding-bottom: 0.4em;background-color: white;}#sk-container-id-2 div.sk-label label {font-family: monospace;font-weight: bold;display: inline-block;line-height: 1.2em;}#sk-container-id-2 div.sk-label-container {text-align: center;}#sk-container-id-2 div.sk-container {/* jupyter's `normalize.less` sets `[hidden] { display: none; }` but bootstrap.min.css set `[hidden] { display: none !important; }` so we also need the `!important` here to be able to override the default hidden behavior on the sphinx rendered scikit-learn.org. See: https://github.com/scikit-learn/scikit-learn/issues/21755 */display: inline-block !important;position: relative;}#sk-container-id-2 div.sk-text-repr-fallback {display: none;}</style><div id=\"sk-container-id-2\" class=\"sk-top-container\"><div class=\"sk-text-repr-fallback\"><pre>FactorAnalyzer(n_factors=9, rotation=&#x27;varimax&#x27;, rotation_kwargs={})</pre><b>In a Jupyter environment, please rerun this cell to show the HTML representation or trust the notebook. <br />On GitHub, the HTML representation is unable to render, please try loading this page with nbviewer.org.</b></div><div class=\"sk-container\" hidden><div class=\"sk-item\"><div class=\"sk-estimator sk-toggleable\"><input class=\"sk-toggleable__control sk-hidden--visually\" id=\"sk-estimator-id-2\" type=\"checkbox\" checked><label for=\"sk-estimator-id-2\" class=\"sk-toggleable__label sk-toggleable__label-arrow\">FactorAnalyzer</label><div class=\"sk-toggleable__content\"><pre>FactorAnalyzer(n_factors=9, rotation=&#x27;varimax&#x27;, rotation_kwargs={})</pre></div></div></div></div></div>"
            ]
          },
          "metadata": {},
          "execution_count": 20
        }
      ]
    },
    {
      "cell_type": "code",
      "source": [
        "loadings = fa.loadings_\n",
        "print(pd.DataFrame(loadings, columns=[f'Factor{i+1}' for i in range(loadings.shape[1])], index=numeric_data.columns))"
      ],
      "metadata": {
        "colab": {
          "base_uri": "https://localhost:8080/"
        },
        "id": "xHLelZ2U-kWP",
        "outputId": "1fad4f12-f7df-4148-8c02-2d2f7bd2a55e"
      },
      "execution_count": 21,
      "outputs": [
        {
          "output_type": "stream",
          "name": "stdout",
          "text": [
            "                                            Factor1   Factor2   Factor3  \\\n",
            "2.Proximity to schools                     0.214049  0.229875  0.072246   \n",
            "3. Proximity to transport                 -0.100885  0.010808 -0.042723   \n",
            "4. Proximity to work place                 0.066845 -0.073512  0.057797   \n",
            "5. Proximity to shopping                   0.220758  0.601192  0.292981   \n",
            "1. Gym/Pool/Sports facility                0.249095  0.519146  0.068143   \n",
            "2. Parking space                           0.252232  0.347771  0.450041   \n",
            "3.Power back-up                            0.201595  0.293063  0.229838   \n",
            "4.Water supply                             0.383765  0.373737  0.078538   \n",
            "5.Security                                 0.160431  0.811676  0.122991   \n",
            "1. Exterior look                           0.436751  0.301109  0.486234   \n",
            "2. Unit size                               0.076976  0.027298  0.071432   \n",
            "3. Interior design and branded components  0.384790  0.302596  0.601414   \n",
            "4. Layout plan (Integrated etc.)           0.401457  0.068409  0.580091   \n",
            "5. View from apartment                     0.365793  0.391903  0.727439   \n",
            "1. Price                                   0.320778  0.055759  0.015874   \n",
            "2. Booking amount                          0.001252  0.023996  0.005179   \n",
            "3. Equated Monthly Instalment (EMI)       -0.006946  0.050668 -0.273444   \n",
            "4. Maintenance charges                    -0.155593 -0.042445 -0.013460   \n",
            "5. Availability of loan                   -0.063770 -0.122602 -0.172298   \n",
            "1. Builder reputation                      0.479754 -0.048228  0.357059   \n",
            "2. Appreciation potential                  0.240924  0.076361  0.198258   \n",
            "3. Profile of neighbourhood                0.437680  0.433258  0.357591   \n",
            "4. Availability of domestic help           0.335430  0.599973  0.285495   \n",
            "Time                                       0.060002  0.002184  0.114550   \n",
            "Size                                       0.848883  0.262154  0.191963   \n",
            "Budgets                                    0.937282  0.192709  0.191016   \n",
            "Maintainances                              0.877097  0.266710  0.189740   \n",
            "EMI.1                                      0.831780  0.196334  0.302842   \n",
            "\n",
            "                                            Factor4   Factor5   Factor6  \\\n",
            "2.Proximity to schools                     0.555654  0.084021 -0.014534   \n",
            "3. Proximity to transport                 -0.131585  0.673514  0.186115   \n",
            "4. Proximity to work place                 0.703249  0.010556 -0.022690   \n",
            "5. Proximity to shopping                   0.256581 -0.135710  0.157278   \n",
            "1. Gym/Pool/Sports facility                0.227351  0.096997 -0.162559   \n",
            "2. Parking space                           0.163814 -0.041785  0.012044   \n",
            "3.Power back-up                            0.454330 -0.070756 -0.045920   \n",
            "4.Water supply                             0.199191  0.573047  0.068994   \n",
            "5.Security                                -0.055775  0.176624 -0.013872   \n",
            "1. Exterior look                          -0.105454 -0.293905  0.260746   \n",
            "2. Unit size                              -0.014898 -0.016128 -0.101248   \n",
            "3. Interior design and branded components  0.200096  0.022732  0.077848   \n",
            "4. Layout plan (Integrated etc.)           0.303799  0.032079 -0.089825   \n",
            "5. View from apartment                    -0.029524  0.062528  0.072075   \n",
            "1. Price                                   0.205249  0.516010 -0.274747   \n",
            "2. Booking amount                         -0.037455 -0.030693  0.123164   \n",
            "3. Equated Monthly Instalment (EMI)        0.016032  0.148162  0.298882   \n",
            "4. Maintenance charges                    -0.103085 -0.093936  0.003505   \n",
            "5. Availability of loan                    0.276526 -0.089277  0.709648   \n",
            "1. Builder reputation                      0.056682  0.355656 -0.230355   \n",
            "2. Appreciation potential                 -0.044803  0.024759  0.104278   \n",
            "3. Profile of neighbourhood               -0.036908  0.281157 -0.250880   \n",
            "4. Availability of domestic help          -0.230997 -0.109991  0.057052   \n",
            "Time                                      -0.121941  0.086739  0.601255   \n",
            "Size                                       0.086724  0.014035  0.051974   \n",
            "Budgets                                    0.048851  0.075175  0.047790   \n",
            "Maintainances                              0.149333  0.107081  0.055518   \n",
            "EMI.1                                      0.185531 -0.006189 -0.082738   \n",
            "\n",
            "                                            Factor7   Factor8   Factor9  \n",
            "2.Proximity to schools                    -0.216350  0.363228 -0.059947  \n",
            "3. Proximity to transport                 -0.044385 -0.052721 -0.077615  \n",
            "4. Proximity to work place                 0.005645 -0.038999 -0.102425  \n",
            "5. Proximity to shopping                   0.325120  0.001523  0.052477  \n",
            "1. Gym/Pool/Sports facility               -0.078850 -0.030596  0.023008  \n",
            "2. Parking space                          -0.364696 -0.096257  0.175763  \n",
            "3.Power back-up                            0.067707 -0.309755  0.023789  \n",
            "4.Water supply                            -0.162507  0.046147 -0.010442  \n",
            "5.Security                                -0.090292  0.015781  0.002054  \n",
            "1. Exterior look                           0.307406  0.045549  0.044262  \n",
            "2. Unit size                               0.041688  0.942887 -0.033828  \n",
            "3. Interior design and branded components -0.077457  0.086717  0.018225  \n",
            "4. Layout plan (Integrated etc.)           0.049708  0.073864  0.008306  \n",
            "5. View from apartment                     0.046132  0.000262  0.010990  \n",
            "1. Price                                   0.137596  0.075763  0.061738  \n",
            "2. Booking amount                          0.819702 -0.002814  0.168781  \n",
            "3. Equated Monthly Instalment (EMI)        0.164493 -0.037341  0.355635  \n",
            "4. Maintenance charges                     0.111546 -0.130772  0.645784  \n",
            "5. Availability of loan                    0.356146  0.001739  0.348898  \n",
            "1. Builder reputation                     -0.048164  0.257140  0.174695  \n",
            "2. Appreciation potential                 -0.001936  0.140514  0.533465  \n",
            "3. Profile of neighbourhood               -0.091441  0.059989  0.161697  \n",
            "4. Availability of domestic help           0.214564  0.120583 -0.078524  \n",
            "Time                                       0.005560 -0.070460  0.012738  \n",
            "Size                                      -0.004623  0.085308  0.036468  \n",
            "Budgets                                    0.011011  0.064952 -0.044483  \n",
            "Maintainances                              0.046710 -0.038705 -0.100099  \n",
            "EMI.1                                     -0.085436 -0.017993  0.073835  \n"
          ]
        }
      ]
    }
  ]
}